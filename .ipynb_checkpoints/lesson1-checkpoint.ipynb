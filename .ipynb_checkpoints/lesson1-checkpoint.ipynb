{
 "cells": [
  {
   "cell_type": "markdown",
   "metadata": {
    "slideshow": {
     "slide_type": "slide"
    }
   },
   "source": [
    "# Introduction to deep learning\n",
    "## MASTER CSA : Introduction to Embedded systems\n",
    "\n",
    "------------\n",
    "###### author : Geoffrey Roman Jimenez\n",
    "###### Date : 19/03/18\n",
    "\n"
   ]
  },
  {
   "cell_type": "markdown",
   "metadata": {
    "slideshow": {
     "slide_type": "notes"
    }
   },
   "source": [
    "In this course we will see an overall of what is \"deep learning\".\n",
    "\n"
   ]
  },
  {
   "cell_type": "markdown",
   "metadata": {
    "slideshow": {
     "slide_type": "slide"
    }
   },
   "source": [
    "###### 1 - What is it ?\n",
    "\n",
    "\n",
    "\n",
    "**Deep-learning** is a branch of Machine-learning. \n",
    "\n",
    "To understand **deep-learning** and machine-learning\n",
    "\n",
    "- Machine-learning aimed at learning a task to a machine. \n",
    "    - **Deep-learning** aimed at doing the same\n",
    "\n",
    "\n",
    "-----------------------------------\n"
   ]
  },
  {
   "cell_type": "markdown",
   "metadata": {
    "slideshow": {
     "slide_type": "slide"
    }
   },
   "source": [
    "A task in data science can generally be embedded in 4 types:\n",
    "\n",
    "1. Classification\n",
    "*in which category can I classified an example (for instance, an image represent a cat*\n",
    "2. Prediction / Regression\n",
    "**\n",
    "3. Clustering\n",
    "`cluster group of examples together`\n",
    "4. dimension reduction\n",
    "*encodage*\n"
   ]
  },
  {
   "cell_type": "markdown",
   "metadata": {
    "slideshow": {
     "slide_type": "notes"
    }
   },
   "source": []
  },
  {
   "cell_type": "markdown",
   "metadata": {
    "slideshow": {
     "slide_type": "slide"
    }
   },
   "source": [
    "## 2 - How does it works\n",
    "\n",
    "### 2.1 - Artificial Neural (AN)\n",
    "<img src=\"neural.jpg\" alt=\"Drawing\" style=\"width: 300px;\"/>\n",
    "\n",
    "$$ y = \\mathcal N~(\\mathbf{x}, \\mathbf{w}, b) = \\varphi \\Big( \\sum_{i}{x_i . w_i} ~~ + b\\Big)$$\n",
    "\n",
    "\n",
    "\n",
    "with $\\varphi$ is a non-linearity function such as $tanh$ or $sigmoid$\n"
   ]
  },
  {
   "cell_type": "markdown",
   "metadata": {
    "slideshow": {
     "slide_type": "slide"
    }
   },
   "source": [
    "### 2.2 - Artificial Neural Network (ANN)\n",
    "\n",
    "#### 2.2.1 Small one \n",
    "<img src=\"neuralnetwork_tiny.jpg\" alt=\"Drawing\" style=\"width: 300px;\"/>\n",
    "\n",
    "\n",
    "the output $\\mathbf y = \\begin{bmatrix} y_1 \\\\ y_2 \\end{bmatrix}$ can be written as:\n",
    "\n",
    "$ \\mathbf y = \n",
    "\\begin{bmatrix} y_1 \\\\ y_2 \\end{bmatrix} = \n",
    "\\varphi \\Bigg( \n",
    "\\begin{bmatrix}\n",
    "w_{1,1}       &   w_{1,2} & w_{1,3}  \\\\\n",
    "w_{2,1}       &   w_{2,2} & w_{2,3}  \\\\ \n",
    "\\end{bmatrix}\n",
    ".\n",
    "\\begin{bmatrix} x_1 \\\\ x_2 \\\\ x_3 \\end{bmatrix}  + \n",
    "\\begin{bmatrix} b_1 \\\\ b_2 \\end{bmatrix} \n",
    "\\Bigg)\n",
    "$\n",
    "\n",
    "\n",
    "--------------------------------"
   ]
  },
  {
   "cell_type": "markdown",
   "metadata": {
    "slideshow": {
     "slide_type": "slide"
    }
   },
   "source": [
    "### 2.2 - Artificial Neural Network (ANN)\n",
    "\n",
    "#### 2.2.2 With one hidden layer\n",
    "\n",
    "<img src=\"neuralnetwork_small.jpg\" alt=\"Drawing\" style=\"width: 400px;\"/>\n",
    "\n",
    "\n",
    "the output $\\mathbf y = \\begin{bmatrix} y_1 \\\\ y_2 \\end{bmatrix}$ can be written as:\n",
    "\n",
    "$ \\mathbf y = \n",
    "\\begin{bmatrix} y_1 \\\\ y_2 \\end{bmatrix} = \n",
    "\\varphi \\Bigg(\n",
    "\\begin{bmatrix}\n",
    "w_{1,1}       &   w_{1,2}  & w_{1,3}       \\\\\n",
    "w_{2,1}       &   w_{2,2}  & w_{2,3}    \\\\ \n",
    "\\end{bmatrix}\n",
    ".\n",
    "\\varphi \\Bigg( \n",
    "\\begin{bmatrix}\n",
    "w_{1,1}       &   w_{1,2}        \\\\\n",
    "w_{2,1}       &   w_{2,2}      \\\\ \n",
    "w_{3,1}       &   w_{3,2}  \\\\\n",
    "\\end{bmatrix}\n",
    ".\n",
    "\\begin{bmatrix} x_1 \\\\ x_2 \\end{bmatrix}  + \n",
    "\\begin{bmatrix} b_1 \\\\ b_2 \\\\ b_3 \\end{bmatrix} \n",
    "\\Bigg)\n",
    "+ \\begin{bmatrix} b_1 \\\\ b_2 \\end{bmatrix} \n",
    "\\Bigg)\n",
    "$\n",
    "\n",
    "\n",
    "which can be written in a more compact way ;)\n",
    "\n",
    "\n",
    "$$ \\mathbf{y} = \\varphi ( \\mathbf W.\\mathbf x + \\mathbf b)$$\n",
    "\n",
    "\n",
    "\n",
    "--------------------------------"
   ]
  },
  {
   "cell_type": "markdown",
   "metadata": {
    "slideshow": {
     "slide_type": "slide"
    }
   },
   "source": [
    "\n",
    "\n",
    "#### 2.2.1 A more deeper one \n",
    "\n",
    "\n",
    "\n",
    "\n",
    "[//]: # (![alt text](./neuralnetwork.jpg \"NeuralNetwork\"))\n",
    "<img src=\"neuralnetwork.jpg\" alt=\"Drawing\" style=\"width: 600px;\"/>\n",
    "\n",
    "\n",
    "\n",
    "more generally : \n",
    "\n",
    "\n",
    "$$ \\mathbf{y}~(\\mathbf{x}, {\\mathbf{\\mathcal W}}, \\mathbf{B}) = \\varphi \\Bigg( \\mathbf W_d . \\varphi \\bigg( \\mathbf{W}_{d-1} . \\varphi \\Big( \\mathbf W_{d-2} \n",
    "~ \\dots ~ \n",
    "\\varphi \\big( \\mathbf{W_{2}} . \\varphi (\\mathbf W_{1}.\\mathbf x + \\mathbf b_1) + \\mathbf{b}_2 \\big) \\dots + \\mathbf{b}_{d-2} \\Big) + \\mathbf{b}_{d-1} \\bigg) + \\mathbf{b}_d\\Bigg)$$\n",
    "\n",
    "with \n",
    "\n",
    "$\\mathcal W = \\{ \\mathbf W_1, \\mathbf W_2, ..., \\mathbf W_{d-1}, \\mathbf W_{d}\\}\n",
    "~~~~~~~~~~ \n",
    "and \n",
    "~~~~~~~~\n",
    "\\mathbf B = \\{ \\mathbf b_1, \\mathbf b_2, \\dots , \\mathbf b_{d-1}, \\mathbf b_d \\}$ \n",
    " \n",
    "$\n",
    "\\mathbf W_k = \\begin{pmatrix}\n",
    "w_{1,1}       &   w_{1,2}       & \\dots &   w_{1,n_{k-1}}       \\\\\n",
    "w_{2,1}       &   w_{2,2}       & \\dots &   w_{2,n_{k-1}}       \\\\\n",
    "\\vdots  &  \\vdots   &   \\vdots  & \\vdots  \\\\   \n",
    "w_{n_k,1}       &   w_{n_k,2}   & \\dots &   w_{n_k,n_{k-1}}  \\\\\n",
    "\\end{pmatrix}\n",
    "~~~~~~~ \n",
    "\\mathbf b_k = \\begin{pmatrix} b_1 \\\\ b_2 \\\\ \\vdots \\\\ b_{n_{k-1}} \\\\ b_{n_k} \\end{pmatrix}\n",
    "$"
   ]
  },
  {
   "cell_type": "markdown",
   "metadata": {
    "slideshow": {
     "slide_type": "slide"
    }
   },
   "source": [
    "### Training an ANN\n",
    "http://playground.tensorflow.org/#activation=tanh&batchSize=10&dataset=circle&regDataset=reg-plane&learningRate=0.03&regularizationRate=0&noise=0&networkShape=4,2&seed=0.32087&showTestData=false&discretize=false&percTrainData=50&x=true&y=true&xTimesY=false&xSquared=false&ySquared=false&cosX=false&sinX=false&cosY=false&sinY=false&collectStats=false&problem=classification&initZero=false&hideText=false"
   ]
  },
  {
   "cell_type": "markdown",
   "metadata": {
    "slideshow": {
     "slide_type": "slide"
    }
   },
   "source": [
    "### 2.3 - Deep Neural Network (DNN)\n",
    "\n",
    "Deep Neural Network (DNN) is artificial Neural Network with  "
   ]
  },
  {
   "cell_type": "code",
   "execution_count": null,
   "metadata": {},
   "outputs": [],
   "source": []
  },
  {
   "cell_type": "markdown",
   "metadata": {},
   "source": [
    "$$ y = h~(X, W, b) = \\varphi \\Big( (\\sum_{i}{x_i . w_i}) ~ + b\\Big)$$\n"
   ]
  },
  {
   "cell_type": "markdown",
   "metadata": {},
   "source": [
    "## Third : Some examples\n",
    "\n",
    "\n",
    "![alt text](https://pjreddie.com/media/image/Screen_Shot_2016-11-26_at_11.22.46_PM.png \"YOLO\")\n",
    "\n",
    "http://scs.ryerson.ca/~aharley/vis/conv/\n"
   ]
  },
  {
   "cell_type": "code",
   "execution_count": 12,
   "metadata": {},
   "outputs": [
    {
     "data": {
      "text/html": [
       "<iframe width=\"560\" height=\"315\" src=\"https://www.youtube.com/embed/VOC3huqHrss?rel=0&amp;controls=0&amp;showinfo=0\" frameborder=\"0\" allowfullscreen></iframe>"
      ],
      "text/plain": [
       "<IPython.core.display.HTML object>"
      ]
     },
     "execution_count": 12,
     "metadata": {},
     "output_type": "execute_result"
    }
   ],
   "source": [
    "HTML('<iframe width=\"560\" height=\"315\" src=\"https://www.youtube.com/embed/VOC3huqHrss?rel=0&amp;controls=0&amp;showinfo=0\" frameborder=\"0\" allowfullscreen></iframe>')\n"
   ]
  },
  {
   "cell_type": "markdown",
   "metadata": {},
   "source": [
    "## Fourth : Go deeper"
   ]
  },
  {
   "cell_type": "code",
   "execution_count": 5,
   "metadata": {},
   "outputs": [],
   "source": [
    "# libraries importation\n",
    "import numpy\n",
    "import sys, os\n",
    "from IPython.display import HTML\n",
    "import tikzmagic\n",
    "%load_ext tikzmagic"
   ]
  },
  {
   "cell_type": "code",
   "execution_count": null,
   "metadata": {},
   "outputs": [],
   "source": []
  },
  {
   "cell_type": "code",
   "execution_count": null,
   "metadata": {},
   "outputs": [],
   "source": []
  },
  {
   "cell_type": "markdown",
   "metadata": {},
   "source": []
  }
 ],
 "metadata": {
  "celltoolbar": "Slideshow",
  "kernelspec": {
   "display_name": "Python 3",
   "language": "python",
   "name": "python3"
  },
  "language_info": {
   "codemirror_mode": {
    "name": "ipython",
    "version": 3
   },
   "file_extension": ".py",
   "mimetype": "text/x-python",
   "name": "python",
   "nbconvert_exporter": "python",
   "pygments_lexer": "ipython3",
   "version": "3.6.4"
  }
 },
 "nbformat": 4,
 "nbformat_minor": 2
}
