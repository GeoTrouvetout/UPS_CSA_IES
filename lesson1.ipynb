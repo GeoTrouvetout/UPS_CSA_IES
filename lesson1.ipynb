{
 "cells": [
  {
   "cell_type": "markdown",
   "metadata": {},
   "source": [
    "# Introduction to deep learning\n",
    "## MASTER CSA : Introduction to Embedded systems\n",
    "\n",
    "------------\n",
    "###### author : Geoffrey Roman Jimenez\n",
    "###### Date : 19/03/18\n"
   ]
  },
  {
   "cell_type": "markdown",
   "metadata": {},
   "source": [
    "In this course we will see an overall of what is \"deep learning\".\n"
   ]
  },
  {
   "cell_type": "markdown",
   "metadata": {},
   "source": [
    "## 1 - What is it ?\n",
    "\n",
    "**Deep-learning** is a branch of Machine-learning. \n",
    "\n",
    "To understand the difference between **deep-learning** and machine-learning, we need to briefly redefine what is machine-learning:\n",
    "\n",
    "Basically machine-learning aimed at learning a task to a machine. \n",
    "\n",
    "A task in data science can generally be embedded in 4 types:\n",
    "\n",
    "1. Classification\n",
    "\n",
    "*in which category can I classified an example (for instance, an image represent a cat*\n",
    "\n",
    "2. Prediction / Regression\n",
    "\n",
    "**\n",
    "\n",
    "3. Clustering\n",
    "\n",
    "`cluster group of examples together`\n",
    "\n",
    "4. dimension reduction\n",
    "\n",
    "*encodage*\n",
    "\n",
    "\n",
    "\n",
    "\n",
    "\n",
    "\n",
    "\n"
   ]
  },
  {
   "cell_type": "markdown",
   "metadata": {},
   "source": [
    "## Second : How does it works\n",
    "\n",
    "\n",
    "$$ h~(X, W, b) = \\varphi \\Big( (\\sum_{i}{x_i . w_i}) ~ + b\\Big)$$\n",
    "\n",
    "[//]: # (![alt text](./neuralnetwork.jpg \"NeuralNetwork\"))\n",
    "<img src=\"neuralnetwork.jpg\" alt=\"Drawing\" style=\"width: 600px;\"/>\n",
    "\n",
    "$$ Y~(X, W, b) = \\varphi \\Bigg( W_d . \\varphi \\bigg( W_{d-1} . \\varphi \\Big( W_{d-2}\n",
    "~ \\dots ~ \n",
    "\\varphi \\big( W_{2} . \\varphi (W_{1}.X + b_1) + b_2 \\big) \\dots + b_{d-2}\\Big) + b_{d-1} \\bigg) + b_d\\Bigg)$$\n",
    "\n",
    "\n",
    "http://playground.tensorflow.org/#activation=tanh&batchSize=10&dataset=circle&regDataset=reg-plane&learningRate=0.03&regularizationRate=0&noise=0&networkShape=4,2&seed=0.32087&showTestData=false&discretize=false&percTrainData=50&x=true&y=true&xTimesY=false&xSquared=false&ySquared=false&cosX=false&sinX=false&cosY=false&sinY=false&collectStats=false&problem=classification&initZero=false&hideText=false"
   ]
  },
  {
   "cell_type": "code",
   "execution_count": null,
   "metadata": {},
   "outputs": [],
   "source": []
  },
  {
   "cell_type": "markdown",
   "metadata": {},
   "source": [
    "## Third : Some examples\n",
    "\n",
    "\n",
    "![alt text](https://pjreddie.com/media/image/Screen_Shot_2016-11-26_at_11.22.46_PM.png \"YOLO\")\n",
    "\n",
    "http://scs.ryerson.ca/~aharley/vis/conv/\n"
   ]
  },
  {
   "cell_type": "code",
   "execution_count": 12,
   "metadata": {},
   "outputs": [
    {
     "data": {
      "text/html": [
       "<iframe width=\"560\" height=\"315\" src=\"https://www.youtube.com/embed/VOC3huqHrss?rel=0&amp;controls=0&amp;showinfo=0\" frameborder=\"0\" allowfullscreen></iframe>"
      ],
      "text/plain": [
       "<IPython.core.display.HTML object>"
      ]
     },
     "execution_count": 12,
     "metadata": {},
     "output_type": "execute_result"
    }
   ],
   "source": [
    "HTML('<iframe width=\"560\" height=\"315\" src=\"https://www.youtube.com/embed/VOC3huqHrss?rel=0&amp;controls=0&amp;showinfo=0\" frameborder=\"0\" allowfullscreen></iframe>')\n"
   ]
  },
  {
   "cell_type": "markdown",
   "metadata": {},
   "source": [
    "## Fourth : Go deeper"
   ]
  },
  {
   "cell_type": "code",
   "execution_count": 10,
   "metadata": {},
   "outputs": [],
   "source": [
    "# libraries importation\n",
    "import numpy\n",
    "import sys, os\n",
    "from IPython.display import HTML\n"
   ]
  },
  {
   "cell_type": "code",
   "execution_count": 11,
   "metadata": {},
   "outputs": [
    {
     "data": {
      "text/html": [
       "<iframe width=\"560\" height=\"315\" src=\"https://www.youtube.com/embed/VOC3huqHrss?rel=0&amp;controls=0&amp;showinfo=0\" frameborder=\"0\" allowfullscreen></iframe>"
      ],
      "text/plain": [
       "<IPython.core.display.HTML object>"
      ]
     },
     "execution_count": 11,
     "metadata": {},
     "output_type": "execute_result"
    }
   ],
   "source": [
    "HTML('<iframe width=\"560\" height=\"315\" src=\"https://www.youtube.com/embed/VOC3huqHrss?rel=0&amp;controls=0&amp;showinfo=0\" frameborder=\"0\" allowfullscreen></iframe>')\n"
   ]
  },
  {
   "cell_type": "markdown",
   "metadata": {},
   "source": []
  }
 ],
 "metadata": {
  "kernelspec": {
   "display_name": "Python 3",
   "language": "python",
   "name": "python3"
  },
  "language_info": {
   "codemirror_mode": {
    "name": "ipython",
    "version": 3
   },
   "file_extension": ".py",
   "mimetype": "text/x-python",
   "name": "python",
   "nbconvert_exporter": "python",
   "pygments_lexer": "ipython3",
   "version": "3.6.4"
  }
 },
 "nbformat": 4,
 "nbformat_minor": 2
}
